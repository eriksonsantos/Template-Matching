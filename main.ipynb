{
 "cells": [
  {
   "cell_type": "code",
   "execution_count": 10,
   "metadata": {},
   "outputs": [],
   "source": [
    "import os\n",
    "os.environ['TF_CPP_MIN_LOG_LEVEL'] = '2'\n",
    "import tensorflow as tf\n",
    "import numpy as np\n",
    "import pandas as pd\n",
    "\n",
    "import random\n",
    "import plotly.express as plt\n",
    "\n",
    "import cv2\n",
    "\n",
    "img1ScaleGray = cv2.imread('data/placa_1.jpg',0)\n",
    "img2ScaleGray = cv2.imread('data/placa_2.jpg',0)\n",
    "img3ScaleGray = cv2.imread('data/placas.jpg',0)\n",
    "\n",
    "image3 = cv2.imread('data/placas.jpg')\n"
   ]
  },
  {
   "cell_type": "code",
   "execution_count": 11,
   "metadata": {},
   "outputs": [],
   "source": [
    "img1 = tf.Variable(img1ScaleGray)\n",
    "img2 = tf.Variable(img2ScaleGray)\n",
    "img3 = tf.Variable(img3ScaleGray)\n",
    "\n",
    "tam1 = img1.shape\n",
    "tam2 = img2.shape\n",
    "tam3 = img3.shape\n",
    "\n",
    "\n"
   ]
  },
  {
   "cell_type": "code",
   "execution_count": 12,
   "metadata": {},
   "outputs": [],
   "source": [
    "def distanciaMinkoski(x,y,p):\n",
    "    tam = y.shape\n",
    "    soma = 0\n",
    "\n",
    "    result = 0\n",
    "    for i in range(tam[0]):\n",
    "        for j in range(tam[1]):\n",
    "            soma = np.add(  soma , np.power( x[i][j] - y[i][j],p))\n",
    "           \n",
    "    \n",
    "    result = np.power(soma,1/p)\n",
    "\n",
    "    print(result)\n",
    "    return result\n",
    "\n",
    "\n",
    "        \n"
   ]
  },
  {
   "cell_type": "code",
   "execution_count": 13,
   "metadata": {},
   "outputs": [],
   "source": [
    "def functionA(imagem,template):\n",
    "    tm1 = template.shape\n",
    "    tm2 = imagem.shape \n",
    "    eixoX = tm2[0] - tm1[0] + 1\n",
    "    eixoY = tm2[1] - tm1[1] + 1\n",
    "    diff = np.zeros(shape=(eixoX,eixoY))\n",
    "    \n",
    "    for i in range(eixoX):\n",
    "        for j in range(eixoY):\n",
    "            diff1 = np.subtract(imagem[i:(i+tm1[0]), j:(j+tm1[1])], template)  #Matriz de distancia\n",
    "            diff[i,j] = (diff1.mean())\n",
    "            \n",
    "    \n",
    "    return diff\n",
    "    "
   ]
  },
  {
   "cell_type": "code",
   "execution_count": null,
   "metadata": {},
   "outputs": [],
   "source": [
    "diff = functionA(img3,img1)\n",
    "diff"
   ]
  },
  {
   "cell_type": "code",
   "execution_count": null,
   "metadata": {},
   "outputs": [],
   "source": [
    "diffImage2 = functionA(img3,img2)"
   ]
  },
  {
   "cell_type": "code",
   "execution_count": null,
   "metadata": {},
   "outputs": [],
   "source": [
    "diff1Image1 = tf.convert_to_tensor(diff)\n",
    "diff1Image2 = tf.convert_to_tensor(diffImage2)"
   ]
  },
  {
   "cell_type": "code",
   "execution_count": null,
   "metadata": {},
   "outputs": [],
   "source": [
    "xImage1 = np.unravel_index(diff.argmin(), diff.shape)\n",
    "xImage2 = np.unravel_index(diffImage2.argmin(), diffImage2.shape)\n",
    "\n"
   ]
  },
  {
   "cell_type": "code",
   "execution_count": null,
   "metadata": {},
   "outputs": [],
   "source": [
    "import matplotlib.pyplot as mplt"
   ]
  },
  {
   "cell_type": "code",
   "execution_count": null,
   "metadata": {},
   "outputs": [],
   "source": [
    "mplt.imshow(img2ScaleGray)"
   ]
  },
  {
   "cell_type": "code",
   "execution_count": null,
   "metadata": {},
   "outputs": [],
   "source": [
    "mplt.imshow(img1ScaleGray)"
   ]
  },
  {
   "cell_type": "code",
   "execution_count": null,
   "metadata": {},
   "outputs": [],
   "source": [
    "def function2(imagem3F,x,tam):\n",
    "    for i in np.arange(x[0],x[0]+tam[0]):\n",
    "        imagem3F[i,x[1]-1] = 255\n",
    "        imagem3F[i, x[1]] = 255\n",
    "        imagem3F[i,x[1]+1] = 255\n",
    "\n",
    "    for i in np.arange(x[0],x[0]+tam[0]):\n",
    "        imagem3F[i, x[1] + tam[1]] = 255\n",
    "        imagem3F[i, x[1] + tam[1] -1] = 255\n",
    "        imagem3F[i, x[1] + tam[1]+1] = 255\n",
    "\n",
    "    for j in np.arange(x[1],x[1]+ tam[1]):\n",
    "        imagem3F[x[0],j] = 255\n",
    "        imagem3F[x[0]-1,j] = 255\n",
    "        imagem3F[x[0]+1,j] = 255\n",
    "\n",
    "    for j in np.arange(x[1],x[1]+ tam[1]):\n",
    "        imagem3F[x[0] + tam[0],j] = 255\n",
    "        imagem3F[x[0] + tam[0]-1,j] = 255\n",
    "        imagem3F[x[0] + tam[0]+1,j] = 255\n",
    "    \n",
    "    return imagem3F\n",
    "\n",
    "imagemFinal = img3ScaleGray\n",
    "imagemFinal = function2(img3ScaleGray,xImage1,tam1)\n",
    "imagemFinal = function2(imagemFinal,xImage2,tam2)"
   ]
  },
  {
   "cell_type": "code",
   "execution_count": null,
   "metadata": {},
   "outputs": [],
   "source": [
    "xImage1,xImage2\n"
   ]
  },
  {
   "cell_type": "code",
   "execution_count": null,
   "metadata": {},
   "outputs": [],
   "source": [
    "mplt.imshow(imagemFinal)"
   ]
  },
  {
   "cell_type": "code",
   "execution_count": null,
   "metadata": {},
   "outputs": [],
   "source": [
    "import plotly.io as pio\n",
    "\n",
    "pio.renderers;"
   ]
  },
  {
   "cell_type": "code",
   "execution_count": null,
   "metadata": {},
   "outputs": [],
   "source": [
    "import plotly.graph_objects as go\n",
    "fig = go.Figure(data=go.Surface(z=diff, showscale=False))\n",
    "\n",
    "fig.show(renderer=\"png\")"
   ]
  },
  {
   "cell_type": "code",
   "execution_count": null,
   "metadata": {},
   "outputs": [],
   "source": [
    "fig2 = go.Figure(data=go.Surface(z=diffImage2, showscale=False))\n",
    "fig2.show(renderer=\"png\")"
   ]
  },
  {
   "cell_type": "code",
   "execution_count": null,
   "metadata": {},
   "outputs": [],
   "source": [
    "mplt.contour(diff)"
   ]
  },
  {
   "cell_type": "code",
   "execution_count": null,
   "metadata": {},
   "outputs": [],
   "source": [
    "mplt.contour(diffImage2)"
   ]
  }
 ],
 "metadata": {
  "interpreter": {
   "hash": "e79efa34ef9844ba35751648779678aa9d0c974c55a5ad46b096d4e515140b84"
  },
  "kernelspec": {
   "display_name": "Python 3",
   "language": "python",
   "name": "python3"
  },
  "language_info": {
   "codemirror_mode": {
    "name": "ipython",
    "version": 3
   },
   "file_extension": ".py",
   "mimetype": "text/x-python",
   "name": "python",
   "nbconvert_exporter": "python",
   "pygments_lexer": "ipython3",
   "version": "3.8.8"
  }
 },
 "nbformat": 4,
 "nbformat_minor": 2
}
